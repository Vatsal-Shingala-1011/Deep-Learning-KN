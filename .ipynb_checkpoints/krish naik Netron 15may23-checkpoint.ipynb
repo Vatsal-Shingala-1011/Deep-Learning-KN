{
 "cells": [
  {
   "cell_type": "code",
   "execution_count": 1,
   "id": "5f37d164",
   "metadata": {},
   "outputs": [],
   "source": [
    "from PIL import Image\n",
    "import numpy as np\n",
    "import matplotlib.pyplot as plt\n",
    "import numpy as np"
   ]
  },
  {
   "cell_type": "code",
   "execution_count": 2,
   "id": "b33f4858",
   "metadata": {},
   "outputs": [],
   "source": [
    "img_array = np.load('Filter_of_netron_model.npy')"
   ]
  },
  {
   "cell_type": "code",
   "execution_count": 8,
   "id": "f259c598",
   "metadata": {},
   "outputs": [],
   "source": [
    "im=Image.fromarray(img_array[0][1])\n",
    "#this might fail if 'img_array' contain a data type that is not supported\n",
    "#in which case you could try casting it to a different dtype e.g.:\n",
    "#im = Image.fromarray(img_array.astype(np.unit8))\n"
   ]
  },
  {
   "cell_type": "code",
   "execution_count": 9,
   "id": "d14d8955",
   "metadata": {},
   "outputs": [],
   "source": [
    "im.show()"
   ]
  },
  {
   "cell_type": "code",
   "execution_count": null,
   "id": "9d3a8803",
   "metadata": {},
   "outputs": [],
   "source": []
  }
 ],
 "metadata": {
  "kernelspec": {
   "display_name": "Python 3 (ipykernel)",
   "language": "python",
   "name": "python3"
  },
  "language_info": {
   "codemirror_mode": {
    "name": "ipython",
    "version": 3
   },
   "file_extension": ".py",
   "mimetype": "text/x-python",
   "name": "python",
   "nbconvert_exporter": "python",
   "pygments_lexer": "ipython3",
   "version": "3.9.12"
  }
 },
 "nbformat": 4,
 "nbformat_minor": 5
}
